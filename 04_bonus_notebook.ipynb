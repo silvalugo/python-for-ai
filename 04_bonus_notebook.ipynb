{
 "cells": [
  {
   "cell_type": "markdown",
   "metadata": {},
   "source": [
    "<img src='images/Practicum_AI_Logo.white_outline.svg' width=250 alt='Practicum AI logo'> <img src='https://github.com/PracticumAI/practicumai.github.io/blob/main/images/icons/practicumai_python.png?raw=true' align='right' width=50>\n",
    "\n",
    "***\n",
    "\n",
    "# Bonus Python for AI\n",
    "\n",
    "This notebook is intended to test and refine your new Python coding and data analysis skills!\n",
    "\n",
    "[[MORE WORDS HERE]]\n",
    "\n",
    "For this exercise, you'll get some sample code that you'll need to fix in some way to proceed. When you inevitably get some errors, try to find the solution online first. If you get *REALLY* stuck, the 04_bonus_notebook_key.ipynb will have a worked example of each cell. \n",
    "\n",
    "We're going to be exploring some USDA data, Energy Use in Agriculture [1]. Its generally considered best practice to import any libraries at the top, so lets go ahead and do that now. We know we're going to be doing some data analytics, so lets import *pandas* and *plotnine*.\n",
    "\n",
    "```python\n",
    "# Fix this code to import our data analysis libraries\n",
    "import ___ as pd\n",
    "from plotnine ___ ggplot, aes, geom_line, labs\n",
    "```"
   ]
  },
  {
   "cell_type": "code",
   "execution_count": null,
   "metadata": {},
   "outputs": [],
   "source": [
    "# Import what you've learned so far!\n",
    "\n"
   ]
  },
  {
   "cell_type": "markdown",
   "metadata": {},
   "source": [
    "Now let's load some data into this notebook. We'll be loading in \"Data for Figure 5-2: Energy use in agriculture, by source, 1965–2018 in QBTU (quadrillion British thermal units)\". We've included a copy of this spreadsheet in the data folder.\n",
    "\n",
    "```python\n",
    "# Fix this code to load our data\n",
    "file_path = data/Figure5_2.csv'\n",
    "energy_data = pd.read_csv(___)\n",
    "```"
   ]
  },
  {
   "cell_type": "code",
   "execution_count": null,
   "metadata": {},
   "outputs": [],
   "source": [
    "# Missing quotation marks are the worst!\n",
    "\n"
   ]
  },
  {
   "cell_type": "markdown",
   "metadata": {},
   "source": [
    "Using plotnine requires us to reshape the data into \"long\" format, where each row is a single observation for a single variable. We'll do the reshaping using *pandas*' *melt* method.\n",
    "\n",
    "```python\n",
    "# Fix this code to create a new, melted dataset!\n",
    "energy_data_long = ___.melt(energy_data, id_vars='Year', var_name='Energy Source', value_name___'Consumption'\n",
    "```"
   ]
  },
  {
   "cell_type": "code",
   "execution_count": null,
   "metadata": {},
   "outputs": [],
   "source": [
    "# Not all value_names are created equal!\n",
    "\n"
   ]
  },
  {
   "cell_type": "markdown",
   "metadata": {},
   "source": [
    "You might be curious what *melt*ing actually did to our data, so let's compare the original and *melt*ed datasets now.\n",
    "\n",
    "```python\n",
    "# Fix this code to see how our two datasets compare!\n",
    "print(energy_data.___())\n",
    "print()\n",
    "print(long_data_energy.head(hats)\n",
    "```"
   ]
  },
  {
   "cell_type": "code",
   "execution_count": null,
   "metadata": {},
   "outputs": [],
   "source": [
    "# Hats make terrible arguments!\n",
    "\n",
    " "
   ]
  },
  {
   "cell_type": "markdown",
   "metadata": {},
   "source": [
    "Everything looks good so far. Now let's get to plotting. \n",
    "\n",
    "```python\n",
    "# Fix this code to create the plot\n",
    "1plot = (ggplot(energy_data_long, aes(x='Year', y='Consumption', color='Energy Source'))\n",
    "        + geom_line()\n",
    "        + labs(title='Energy Consumption by Source Over Time',\n",
    "               x='Year',\n",
    "               y='Energy Consumption')\n",
    "        )\n",
    "\n",
    "print(___)\n",
    "```\n",
    "\n",
    "Oh, and uh, I forgot to place a code cell below... Good luck!"
   ]
  },
  {
   "cell_type": "markdown",
   "metadata": {},
   "source": [
    "And that's it! We encourage you to keep playing with code, and look out for more PracticumAI lessons!"
   ]
  },
  {
   "cell_type": "markdown",
   "metadata": {},
   "source": [
    "# Citations:\n",
    "\n",
    "[1]\n",
    "(original article) Xiarchos, I.M. (2022). Chapter 5: Energy Use in Agriculture. In U.S. Agriculture and Forestry Greenhouse Gas Inventory: 1990–2018. Technical Bulletin No. 1957, United States Department of Agriculture, Office of the Chief Economist, Washington, DC. p. 177-181. January 2022. Hanson, W.L., S.J. Del Grosso, L. Gallagher, Eds.\n",
    "\n",
    "(dataset) Xiarchos, Irene M. (2021). Data from: Chapter 5: Energy Use in Agriculture. U.S. Agriculture and Forestry Greenhouse Gas Inventory: 1990-2018. Ag Data Commons. https://doi.org/10.15482/USDA.ADC/1524410. Accessed 2023-11-30."
   ]
  },
  {
   "cell_type": "markdown",
   "metadata": {},
   "source": []
  }
 ],
 "metadata": {
  "kernelspec": {
   "display_name": "base",
   "language": "python",
   "name": "python3"
  },
  "language_info": {
   "name": "python",
   "version": "3.10.9"
  }
 },
 "nbformat": 4,
 "nbformat_minor": 2
}
